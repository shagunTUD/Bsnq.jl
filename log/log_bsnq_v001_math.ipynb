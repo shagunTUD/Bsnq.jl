{
 "cells": [
  {
   "cell_type": "markdown",
   "metadata": {},
   "source": [
    "# Math Notes"
   ]
  },
  {
   "cell_type": "markdown",
   "metadata": {},
   "source": [
    "## Dot Product"
   ]
  },
  {
   "cell_type": "markdown",
   "metadata": {},
   "source": [
    "| <img width=\"100%\" src=\"./log001/p001_dotProduct.jpg\" /> |\n",
    "| ----- |\n",
    "| Notes on Dot Product |\n"
   ]
  },
  {
   "cell_type": "markdown",
   "metadata": {},
   "source": [
    "---\n",
    "---"
   ]
  },
  {
   "cell_type": "markdown",
   "metadata": {},
   "source": [
    "## Convective term"
   ]
  },
  {
   "cell_type": "markdown",
   "metadata": {},
   "source": [
    "The convective term in the Bsnq equation is the same as the convective term in the J equation in the GWCE model. So I am adding it here for our referece. It takes care of the way the Jacobian is evaluated in Gridap.\n",
    "\n",
    "| <img width=\"100%\" src=\"./log001/p002_convectiveTerm.jpg\" /> |\n",
    "| ----- |\n",
    "| Notes on convective term |\n"
   ]
  },
  {
   "cell_type": "markdown",
   "metadata": {},
   "source": [
    "---\n",
    "---"
   ]
  }
 ],
 "metadata": {
  "kernelspec": {
   "display_name": "Julia 1.8.2",
   "language": "julia",
   "name": "julia-1.8"
  },
  "language_info": {
   "file_extension": ".jl",
   "mimetype": "application/julia",
   "name": "julia",
   "version": "1.8.2"
  }
 },
 "nbformat": 4,
 "nbformat_minor": 2
}
