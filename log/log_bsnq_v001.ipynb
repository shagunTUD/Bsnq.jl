{
 "cells": [
  {
   "cell_type": "markdown",
   "metadata": {},
   "source": [
    "# Initial Development log"
   ]
  },
  {
   "cell_type": "markdown",
   "metadata": {},
   "source": [
    "## Content\n",
    "\n",
    "1. [Observations : Whalin validation [2024-01-08]](#log_bsnq_v001_1)\n",
    "\n",
    "## Attempting\n",
    "\n",
    "- Set up initial working code\n",
    "- Verify against Whalina nd Ship wake sims\n",
    "\n",
    "## List of Work\n",
    "\n",
    "\n",
    "---\n",
    "---"
   ]
  },
  {
   "cell_type": "markdown",
   "metadata": {
    "tags": []
   },
   "source": [
    "<a id = 'log_bsnq_v001_1' />\n",
    "\n",
    "## Observations : Whalin validation [2024-01-08]"
   ]
  },
  {
   "cell_type": "markdown",
   "metadata": {},
   "source": [
    "Basic Julia code was complete along with \n",
    "\n",
    "- All Bsnq terms\n",
    "- Fourier3 wavemaking\n",
    "- Sponge layer (hard coded)\n",
    "\n",
    "I executed the Whalin shoal test case to validate the Julia code against the FORTRAN code.\n",
    "\n",
    "The key differences between the two codes at the moment are\n",
    "\n",
    "|  | Bsnq FORTRAN | Bsnq Julia |\n",
    "| :--- | :--- | :--- |\n",
    "| Time-stepping | RK4 | Theta Method (0.5) |\n",
    "|  | OpenMP parallel | Serial |\n",
    "| NL Solver | BiCGStab | Newton (Backtracking) |\n",
    "\n",
    "---"
   ]
  },
  {
   "cell_type": "markdown",
   "metadata": {
    "tags": []
   },
   "source": [
    "### Comparison of results - Whalin Shoal"
   ]
  },
  {
   "cell_type": "markdown",
   "metadata": {
    "jp-MarkdownHeadingCollapsed": true,
    "tags": []
   },
   "source": [
    "- I executed the Whalin shoal case in both Bsnq-Julia and Bsnq-FORTRAN\n",
    "- Parameters are as follows\n",
    "\n",
    "|  | Bsnq FORTRAN | Bsnq Julia |\n",
    "| :--- | :--- | :--- |\n",
    "| Plot | Red | Blue |\n",
    "| Mesh | Triangles | Quads |\n",
    "| dx = dy | 0.1016 | 0.1016 |\n",
    "| dt | 0.04 | 0.04 |\n",
    "| NL Solver Tolerance | absTol = 1e-5 | ftol = 1e-5 |\n",
    "\n",
    "| Surface elevation eta |\n",
    "| --- |\n",
    "| <img width=\"100%\" src=\"./log_v001/c01/jul_1016_dt04_fort_1016_dt04.png\"> |\n",
    "\n",
    "\n",
    "- We clearly observe a dissipation in the surface elevation in Bsnq-Julia. \n",
    "- **I believe this is due to the time-stepping.** This is confirmed in the following tests.\n",
    "- The following is the comparison if I reduce the time-step for Bsnq-Julia\n",
    "\n",
    "|  | Bsnq FORTRAN | Bsnq Julia |\n",
    "| :--- | :--- | :--- |\n",
    "| Plot | Red | Blue |\n",
    "| Mesh | Triangles | Quads |\n",
    "| dx = dy | 0.1016 | 0.1016 |\n",
    "| dt | 0.04 | 0.02 |\n",
    "| NL Solver Tolerance | absTol = 1e-5 | ftol = 1e-5 |\n",
    "\n",
    "| Surface elevation eta |\n",
    "| --- |\n",
    "| <img width=\"100%\" src=\"./log_v001/c01/jul_1016_dt02_fort_1016_dt04.png\"> |\n",
    "\n",
    "- For run-time, refer to [link](#log_bsnq_v001_1_3)\n",
    "\n",
    "---"
   ]
  },
  {
   "cell_type": "markdown",
   "metadata": {
    "tags": []
   },
   "source": [
    "### Checking influence of time-step, tolerance and Integration Points"
   ]
  },
  {
   "cell_type": "markdown",
   "metadata": {
    "tags": []
   },
   "source": [
    "#### Test 1: Mesh Triangle vs Rectangle\n",
    "\n",
    "|  | Bsnq Julia | Bsnq Julia |\n",
    "| :--- | :--- | :--- |\n",
    "| Plot | Red | Blue |\n",
    "| Mesh | Triangles | Quads |\n",
    "| dx = dy | 0.2032 | 0.2032 |\n",
    "| dt | 0.08 | 0.08 |\n",
    "| NL Solver Tolerance | absTol = 1e-5 | ftol = 1e-5 |\n",
    "\n",
    "No visible difference\n",
    "\n",
    "\n",
    "#### Test 2: Number of integration points\n",
    "\n",
    "|  | Bsnq Julia | Bsnq Julia |\n",
    "| :--- | :--- | :--- |\n",
    "| Plot | Red | Blue |\n",
    "| Mesh | Quads | Quads |\n",
    "| dx = dy | 0.2032 | 0.2032 |\n",
    "| dt | 0.08 | 0.08 |\n",
    "| NL Solver Tolerance | absTol = 1e-5 | ftol = 1e-5 |\n",
    "| **Measure = ** | 8 | 4 (default) |\n",
    "\n",
    "No visible difference\n",
    "\n",
    "| Surface elevation eta|\n",
    "| --- |\n",
    "| <img width=\"100%\" src=\"./log_v001/c01/jul_2032_dt08_tol5_meas4_jul_2032_dt08_tol5_meas8.png\"> |\n",
    "\n",
    "\n",
    "#### Test 3: Solver tolerence\n",
    "\n",
    "|  | Bsnq Julia | Bsnq Julia |\n",
    "| :--- | :--- | :--- |\n",
    "| Plot | Red | Blue |\n",
    "| Mesh | Quads | Quads |\n",
    "| dx = dy | 0.2032 | 0.2032 |\n",
    "| dt | 0.08 | 0.08 |\n",
    "| NL Solver Tolerance | absTol = 1e-5 | ftol = 1e-8 |\n",
    "\n",
    "Minimal difference\n",
    "\n",
    "| Surface elevation eta|\n",
    "| --- |\n",
    "| <img width=\"100%\" src=\"./log_v001/c01/jul_2032_dt08_tol5_jul_2032_dt08_tol8.png\"> |\n",
    "\n",
    "\n",
    "#### Test 4: Time-step\n",
    "\n",
    "|  | Bsnq Julia | Bsnq Julia |\n",
    "| :--- | :--- | :--- |\n",
    "| Mesh | Quads | Quads |\n",
    "| dx = dy | 0.2032 | 0.2032 |\n",
    "| NL Solver Tolerance | absTol = 1e-5 | ftol = 1e-8 |\n",
    "\n",
    "Significant difference\n",
    "\n",
    "| Surface elevation eta|\n",
    "| --- |\n",
    "| Red: dt = 0.04s, Blue: dt = 0.08s |\n",
    "| <img width=\"100%\" src=\"./log_v001/c01/jul_2032_dt08_tol5_jul_2032_dt04_tol5.png\"> |\n",
    "|  |\n",
    "| Red: dt = 0.02s Blue: dt = 0.08s |\n",
    "| <img width=\"100%\" src=\"./log_v001/c01/jul_2032_dt08_tol5_jul_2032_dt02_tol5.png\"> |\n",
    "|  |\n",
    "| Red: dt = 0.02s Blue: dt = 0.04s |\n",
    "| <img width=\"100%\" src=\"./log_v001/c01/jul_2032_dt04_tol5_jul_2032_dt02_tol5.png\"> |\n",
    "\n",
    "---"
   ]
  },
  {
   "cell_type": "markdown",
   "metadata": {
    "tags": []
   },
   "source": [
    "<a id = 'log_bsnq_v001_1_3' />\n",
    "\n",
    "### Speed comparison"
   ]
  },
  {
   "cell_type": "markdown",
   "metadata": {},
   "source": [
    "|  | Bsnq FORTRAN | Bsnq Julia |\n",
    "| :--- | :--- | :--- |\n",
    "| Time-stepping | RK4 | Theta Method (0.5) |\n",
    "|  | OpenMP parallel | Serial |\n",
    "| NL Solver | BiCGStab | Newton (Backtracking) |\n",
    "| NL Solver Tolerance | absTol = 1e-5 | ftol = 1e-5 |\n",
    "\n",
    "Simulation over 40s.<br>\n",
    "All run-time values are in seconds. All tests were run on Sherlock, unless specified.\n",
    "\n",
    "|  | Bsnq-Julia (Serial) | Bsnq-Fortran (Serial) | Bsnq-Fortran (OpenMP Cores) |\n",
    "| :--- | :--- | :--- | :--- |\n",
    "| dx=0.2032, dt=0.08 | 1521 Sherlock | 153 Sherlock | 89 (4) Sherlock | \n",
    "| dx=0.1016, dt=0.04 | 9468 Sherlock <br> | 1486 Sherlock <br> 1797 Watson | 1147 (4) Sherlock <br> 725 (4) Watson | \n",
    "| dx=0.1016, dt=0.02 | 18684 |   |  | \n",
    "\n",
    "I could not compile the bsnq code on Sherlock. Probably thats why the OpenMP performance is so poor.\n",
    "\n",
    "---"
   ]
  },
  {
   "cell_type": "markdown",
   "metadata": {},
   "source": [
    "---\n",
    "---"
   ]
  },
  {
   "cell_type": "markdown",
   "metadata": {},
   "source": [
    "## References\n",
    "\n",
    "1. Sørensen, O. R., Schäffer, H. A., & Sørensen, L. S. (2004). Boussinesq-type modelling using an unstructured finite element technique. Coastal Engineering, 50(4), 181–198. [DOI](https://doi.org/10.1016/j.coastaleng.2003.10.005)\n",
    "\n",
    "1. Agarwal, S., Sriram, V., & Murali, K. (2019). Modelling Wave Interaction with Porous Structures Using Boussinesq Equations. In Proceedings of the Fourth International Conference in Ocean Engineering (ICOE2018) (pp. 573–583). <https://doi.org/10.1007/978-981-13-3119-0_35>\n",
    "\n",
    "1. Dresback, K. M., Kolar, R. L., & Dietrich, J. C. (2004). A 2D implicit time-marching algorithm for shallow water models based on the generalized wave continuity equation. International Journal for Numerical Methods in Fluids, 45(3), 253–274. https://doi.org/10.1002/fld.697\n",
    "\n",
    "1. Lee, S.-J., Yates, G. T., & Wu, T. Y. (1989). Experiments and analyses of upstream-advancing solitary waves generated by moving disturbances. Journal of Fluid Mechanics, 199(1), 569. https://doi.org/10.1017/S0022112089000492"
   ]
  }
 ],
 "metadata": {
  "kernelspec": {
   "display_name": "Julia 1.8.2",
   "language": "julia",
   "name": "julia-1.8"
  },
  "language_info": {
   "file_extension": ".jl",
   "mimetype": "application/julia",
   "name": "julia",
   "version": "1.8.2"
  }
 },
 "nbformat": 4,
 "nbformat_minor": 4
}
